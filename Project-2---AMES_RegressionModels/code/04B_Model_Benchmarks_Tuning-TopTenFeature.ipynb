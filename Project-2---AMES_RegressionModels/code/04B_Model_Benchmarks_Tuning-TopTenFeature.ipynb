{
 "cells": [
  {
   "cell_type": "markdown",
   "id": "912ec988",
   "metadata": {},
   "source": [
    "\n",
    "## Ames Housing Data and Kaggle Challenge\n",
    "\n",
    "Part 4 -  This notebook choose the Top 10 features based on the output from ***\"Ames_Subset Selection in Python.ipynb\"***, and see how it compare with our original model with all features\n",
    "\n",
    "------------\n",
    "Best Subset Selection (result from the Top10 Forward and Top10 Backward Stepwise Selection)\n",
    "------------\n",
    "- Total_SF           39.724766\n",
    "- Neighborhood     1471.621870\n",
    "- Overall Qual     9999.805385\n",
    "- Bsmt Unf SF       -19.722646\n",
    "- Kitchen Qual    11849.345263\n",
    "- Garage Area        27.314289\n",
    "- Fireplace Qu     2997.425554\n",
    "- Overall Cond     4979.112681\n",
    "- Yr Sold          -281.931927\n",
    "- Year Built        245.409920\n",
    "\n",
    "\n"
   ]
  },
  {
   "cell_type": "code",
   "execution_count": 1,
   "id": "f4cf72bc",
   "metadata": {},
   "outputs": [],
   "source": [
    "#import packages\n",
    "import pandas as pd\n",
    "import matplotlib.pyplot as plt\n",
    "import seaborn as sns\n",
    "import numpy as np\n",
    "\n",
    "#regression models\n",
    "import sklearn  #to show version\n",
    "from sklearn.linear_model import LinearRegression\n",
    "from sklearn.linear_model import Ridge, Lasso, ElasticNet\n",
    "from sklearn.linear_model import RidgeCV, LassoCV, ElasticNetCV\n",
    "from sklearn.preprocessing import StandardScaler, PolynomialFeatures\n",
    "from sklearn.model_selection import train_test_split, cross_val_score,RandomizedSearchCV, KFold,cross_validate\n",
    "from sklearn import preprocessing\n",
    "from sklearn import metrics\n",
    "\n",
    "#for OLS\n",
    "import statsmodels.api as sm\n",
    "\n",
    "%matplotlib inline"
   ]
  },
  {
   "cell_type": "code",
   "execution_count": 2,
   "id": "882fe141",
   "metadata": {},
   "outputs": [
    {
     "name": "stdout",
     "output_type": "stream",
     "text": [
      "pandas:  1.3.4\n",
      "seaborn:  0.11.1\n",
      "numpy:  1.21.4\n",
      "sklearn 0.24.1\n"
     ]
    }
   ],
   "source": [
    "#package versions\n",
    "#show versions of packages\n",
    "print('pandas: ', pd.__version__)\n",
    "print('seaborn: ', sns.__version__)\n",
    "print('numpy: ', np.__version__)\n",
    "print('sklearn', sklearn.__version__)"
   ]
  },
  {
   "cell_type": "code",
   "execution_count": 3,
   "id": "705d1725",
   "metadata": {},
   "outputs": [],
   "source": [
    "import warnings\n",
    "warnings.filterwarnings('ignore')"
   ]
  },
  {
   "cell_type": "markdown",
   "id": "ae0d5db8",
   "metadata": {},
   "source": [
    "### USER DEFINED VARIABLES"
   ]
  },
  {
   "cell_type": "code",
   "execution_count": 4,
   "id": "b126a7fc",
   "metadata": {},
   "outputs": [],
   "source": [
    "#store the resutt of regression models\n",
    "regression_dict = {}\n",
    "\n",
    "#we will use the same alphas for different regression models\n",
    "my_alphas = np.linspace(10, 200, 100)\n",
    "\n",
    "#parameter for cross validation\n",
    "crossval = KFold(n_splits=5, shuffle=True, random_state=52)"
   ]
  },
  {
   "cell_type": "markdown",
   "id": "e7b28d48",
   "metadata": {},
   "source": [
    "### USER DEFINED FUNCTIONS"
   ]
  },
  {
   "cell_type": "code",
   "execution_count": 5,
   "id": "fc215979",
   "metadata": {},
   "outputs": [],
   "source": [
    "def rmodel_crossval(model_type, alphas, X_train, y_train, X_val, y_val, dic):\n",
    "    ''' this function is to use cross validation, loop and search the best alpha\n",
    "    parameter: model_type ('Ridge' or 'Lasso' or 'Enet'), list of alpha,\n",
    "    X_train, y_train, X_val, y_val, dic(dictionary of the regression result)\n",
    "    \n",
    "    return: optimal alpha based on the range of alpha, the rest of the result will be added in the dictionary\n",
    "    '''\n",
    "    \n",
    "    val_score_list = []    #this is out X_val and y_val\n",
    "    train_score_list = []  #this is our X_train and y_train\n",
    "    cv_score_list = []     #this is our Cross validation from (X_train)\n",
    "    mse_train_list = []     #this is our mean squared error for train\n",
    "    mse_val_list = []     #this is our mean squared error for val\n",
    "    rmse_train_list = []     #this is our root mean squared error\n",
    "    rmse_val_list = []     #this is our root mean squared error\n",
    "    \n",
    "    #loop for each alpha\n",
    "    for alpha in alphas:\n",
    "###BEGIN LOOP        \n",
    "        #print(\"Trying for alpha:\",alpha )\n",
    "        \n",
    "        if model_type == 'Lasso':\n",
    "            rmodel = Lasso(alpha = alpha)\n",
    "        elif model_type == 'Ridge':\n",
    "            rmodel = Ridge(alpha = alpha)\n",
    "        elif model_type == 'Enet':\n",
    "            rmodel = ElasticNet(alpha = alpha)\n",
    "        else:\n",
    "            print('Invalid Model Type, Lasso, Ridge')\n",
    "            return None\n",
    "\n",
    "        cv = cross_validate(\n",
    "            rmodel, X_train, y_train, scoring='r2', cv=crossval, \n",
    "            return_train_score = True)\n",
    "        \n",
    "        train_score_list.append(np.mean(cv['train_score']))\n",
    "        cv_score_list.append(np.mean(cv['test_score']))\n",
    "            \n",
    "        #fit  Train\n",
    "        rmodel.fit(X_train,y_train)\n",
    "        y_train_pred = rmodel.predict(X_train)\n",
    "        mse_train_list.append(metrics.mean_squared_error(y_train, y_train_pred))\n",
    "        rmse_train_list.append(metrics.mean_squared_error(y_train, y_train_pred, squared=False))\n",
    "        \n",
    "        #predict Val\n",
    "        y_pred = rmodel.predict(X_val)\n",
    "        mse_val_list.append(metrics.mean_squared_error(y_val, y_pred))\n",
    "        rmse_val_list.append(metrics.mean_squared_error(y_val, y_pred, squared=False))\n",
    "        \n",
    "        val_score_list.append(rmodel.score(X_val, y_val))\n",
    "###END LOOP\n",
    "    \n",
    "    \n",
    "    #after looping, search the optimal alpha\n",
    "    optimal_alpha_index = np.argmax(val_score_list)\n",
    "    optimal_alpha = alphas[optimal_alpha_index]\n",
    "    \n",
    "    #maximum score in our validation data\n",
    "    val_score = np.max(val_score_list)\n",
    "    \n",
    "    #train score using the same alpha\n",
    "    train_score = train_score_list[optimal_alpha_index]\n",
    "    \n",
    "     #train mse using the same alpha\n",
    "    mse_train_score = mse_train_list[optimal_alpha_index]\n",
    "    mse_val_score = mse_val_list[optimal_alpha_index]\n",
    "    \n",
    "    #train rmse using the same alpha\n",
    "    rmse_train_score = rmse_train_list[optimal_alpha_index]\n",
    "    rmse_val_score = rmse_val_list[optimal_alpha_index]\n",
    "    \n",
    "    #lets plot the results\n",
    "    rmodel_plot(\n",
    "            cv_score_list, train_score_list, val_score_list,alphas, optimal_alpha,\n",
    "        model_type)\n",
    "    \n",
    "    \n",
    "    \n",
    "    print('Alpha:', optimal_alpha)\n",
    "    print('R2 of Train:', train_score, ', R2 of Val:', val_score)\n",
    "    print('MSE of Train,', mse_train_score, ', MSE of Val', mse_val_score)\n",
    "    print('RMSE of Train,', rmse_train_score, ', RMSE of Val', rmse_val_score)\n",
    "\n",
    "    model_print = model_type + '(cross_validate)'\n",
    "    \n",
    "    dic[model_print] = {'alpha': optimal_alpha, \n",
    "                                   'train_score': round(train_score,4), \n",
    "                                   'validation_score' : round(val_score,4),\n",
    "                                   'mse_train': round(mse_train_score,4), \n",
    "                                   'mse_val':round(mse_val_score,4), \n",
    "                                   'rmse_train': round(rmse_train_score,4),\n",
    "                                   'rmse_val': round(rmse_val_score,4)}\n",
    "    \n",
    "    return optimal_alpha"
   ]
  },
  {
   "cell_type": "code",
   "execution_count": 6,
   "id": "abf621ae",
   "metadata": {},
   "outputs": [],
   "source": [
    "def rmodel_plot(cross_val_score, train_score_list, val_score_list, alphas, optimal_alpha,\n",
    "    model_type):\n",
    "    \n",
    "    '''plotting the optimal alpha and the r2 score of cross validation, train data, and validation data\n",
    "    parameters: cross_val_score, train_score_list, alphas, optimal_alpha,\n",
    "                model_type, val_score_list\n",
    "    return: no return, just plot the graph\n",
    "    '''\n",
    "    \n",
    "    #set figure size\n",
    "    plt.figure(figsize = (7,5))\n",
    "    \n",
    "    #cross validation score\n",
    "    sns.lineplot(y = cross_val_score, x = alphas, \n",
    "                 label = 'CrossVal from X_train')\n",
    "    \n",
    "    #training data score\n",
    "    sns.lineplot(y = train_score_list, x = alphas, \n",
    "                 label = 'Training Data (X_train)')\n",
    "    \n",
    "    #vertical line for the optimal alpha\n",
    "    plt.axvline(x=optimal_alpha, linestyle='--')\n",
    "    \n",
    "    \n",
    "    #\n",
    "    sns.lineplot(y = val_score_list, x = alphas, \n",
    "                     label = 'Validation Data (X_val)')\n",
    "    \n",
    "    #plt.legend(bbox_to_anchor=(1.05, 1), loc=2, borderaxespad=0.)\n",
    "    \n",
    "    plt.title(model_type)\n",
    "    plt.xlabel('alphas')\n",
    "    plt.ylabel('r2 (score)')\n",
    "    \n",
    "    plt.legend()\n",
    "    plt.show()"
   ]
  },
  {
   "cell_type": "code",
   "execution_count": 7,
   "id": "63249bd9",
   "metadata": {},
   "outputs": [],
   "source": [
    "def get_r2_mse(model, model_name, alpha, x_train, x_val, y_train, y_val, reg_dict, add_dic=False):\n",
    "    '''to help in getting r2, mse and rmse in different models\n",
    "    parameter: model, x_train, x_val, y_train, y_val, \n",
    "    reg_dict (dictionary to add the result), \n",
    "    add_dic (if we want to add the result in dictionary)'''\n",
    "    \n",
    "    #fit the model\n",
    "    model.fit(x_train, y_train)\n",
    "    \n",
    "    #r2\n",
    "    train_score = model.score(x_train, y_train)\n",
    "    val_score = model.score(x_val, y_val)\n",
    "\n",
    "    #predict train and validation\n",
    "    y_pred_train = model.predict(x_train)\n",
    "    y_pred_val = model.predict(x_val)\n",
    "\n",
    "    #mean square error for train\n",
    "    mse_train = metrics.mean_squared_error(y_pred_train, y_train)\n",
    "    rmse_train = metrics.mean_squared_error(y_pred_train, y_train, squared=False)\n",
    "\n",
    "    #mean square error for val\n",
    "    mse_val = metrics.mean_squared_error(y_pred_val, y_val)\n",
    "    rmse_val = metrics.mean_squared_error(y_pred_val, y_val, squared=False)\n",
    "    \n",
    "    print('Alpha:', alpha)\n",
    "    print('R2 of Train:', train_score, ', R2 of Val:', val_score)\n",
    "    print('MSE of Train,', mse_train, ', MSE of Val', mse_val)\n",
    "    print('RMSE of Train,', rmse_train, ', RMSE of Val', rmse_val)\n",
    "\n",
    "    if add_dic:\n",
    "        regression_dict[model_name] = {'alpha': round(alpha,4), \n",
    "                                   'train_score': round(train_score,4), \n",
    "                                   'validation_score' : round(val_score,4),\n",
    "                                   'mse_train': round(mse_train,4), \n",
    "                                   'mse_val':round(mse_val,4), \n",
    "                                   'rmse_train': round(rmse_train,4),\n",
    "                                   'rmse_val': round(rmse_val,4)}"
   ]
  },
  {
   "cell_type": "markdown",
   "id": "e2ea95c2",
   "metadata": {},
   "source": [
    "## Loading of train dataset with additional features"
   ]
  },
  {
   "cell_type": "code",
   "execution_count": 8,
   "id": "33d2f003",
   "metadata": {},
   "outputs": [
    {
     "data": {
      "text/html": [
       "<div>\n",
       "<style scoped>\n",
       "    .dataframe tbody tr th:only-of-type {\n",
       "        vertical-align: middle;\n",
       "    }\n",
       "\n",
       "    .dataframe tbody tr th {\n",
       "        vertical-align: top;\n",
       "    }\n",
       "\n",
       "    .dataframe thead th {\n",
       "        text-align: right;\n",
       "    }\n",
       "</style>\n",
       "<table border=\"1\" class=\"dataframe\">\n",
       "  <thead>\n",
       "    <tr style=\"text-align: right;\">\n",
       "      <th></th>\n",
       "      <th>Unnamed: 0</th>\n",
       "      <th>Id</th>\n",
       "      <th>PID</th>\n",
       "      <th>MS SubClass</th>\n",
       "      <th>MS Zoning</th>\n",
       "      <th>Lot Frontage</th>\n",
       "      <th>Lot Area</th>\n",
       "      <th>Street</th>\n",
       "      <th>Lot Shape</th>\n",
       "      <th>Land Contour</th>\n",
       "      <th>...</th>\n",
       "      <th>Pool Area</th>\n",
       "      <th>Misc Val</th>\n",
       "      <th>Mo Sold</th>\n",
       "      <th>Yr Sold</th>\n",
       "      <th>Sale Type</th>\n",
       "      <th>SalePrice</th>\n",
       "      <th>HouseAge</th>\n",
       "      <th>Remodel_Age</th>\n",
       "      <th>is_Remodeled</th>\n",
       "      <th>Total_SF</th>\n",
       "    </tr>\n",
       "  </thead>\n",
       "  <tbody>\n",
       "    <tr>\n",
       "      <th>0</th>\n",
       "      <td>0</td>\n",
       "      <td>109</td>\n",
       "      <td>533352170</td>\n",
       "      <td>60</td>\n",
       "      <td>6.0</td>\n",
       "      <td>79.0</td>\n",
       "      <td>13517</td>\n",
       "      <td>2</td>\n",
       "      <td>3</td>\n",
       "      <td>2.0</td>\n",
       "      <td>...</td>\n",
       "      <td>0</td>\n",
       "      <td>0</td>\n",
       "      <td>3</td>\n",
       "      <td>2010</td>\n",
       "      <td>6.0</td>\n",
       "      <td>130500</td>\n",
       "      <td>34</td>\n",
       "      <td>29</td>\n",
       "      <td>0</td>\n",
       "      <td>2204.0</td>\n",
       "    </tr>\n",
       "    <tr>\n",
       "      <th>1</th>\n",
       "      <td>1</td>\n",
       "      <td>544</td>\n",
       "      <td>531379050</td>\n",
       "      <td>60</td>\n",
       "      <td>6.0</td>\n",
       "      <td>43.0</td>\n",
       "      <td>11492</td>\n",
       "      <td>2</td>\n",
       "      <td>3</td>\n",
       "      <td>2.0</td>\n",
       "      <td>...</td>\n",
       "      <td>0</td>\n",
       "      <td>0</td>\n",
       "      <td>4</td>\n",
       "      <td>2009</td>\n",
       "      <td>6.0</td>\n",
       "      <td>220000</td>\n",
       "      <td>13</td>\n",
       "      <td>1</td>\n",
       "      <td>1</td>\n",
       "      <td>3035.0</td>\n",
       "    </tr>\n",
       "    <tr>\n",
       "      <th>2</th>\n",
       "      <td>2</td>\n",
       "      <td>153</td>\n",
       "      <td>535304180</td>\n",
       "      <td>20</td>\n",
       "      <td>6.0</td>\n",
       "      <td>68.0</td>\n",
       "      <td>7922</td>\n",
       "      <td>2</td>\n",
       "      <td>4</td>\n",
       "      <td>2.0</td>\n",
       "      <td>...</td>\n",
       "      <td>0</td>\n",
       "      <td>0</td>\n",
       "      <td>1</td>\n",
       "      <td>2010</td>\n",
       "      <td>6.0</td>\n",
       "      <td>109000</td>\n",
       "      <td>57</td>\n",
       "      <td>54</td>\n",
       "      <td>0</td>\n",
       "      <td>2114.0</td>\n",
       "    </tr>\n",
       "    <tr>\n",
       "      <th>3</th>\n",
       "      <td>3</td>\n",
       "      <td>318</td>\n",
       "      <td>916386060</td>\n",
       "      <td>60</td>\n",
       "      <td>6.0</td>\n",
       "      <td>73.0</td>\n",
       "      <td>9802</td>\n",
       "      <td>2</td>\n",
       "      <td>4</td>\n",
       "      <td>2.0</td>\n",
       "      <td>...</td>\n",
       "      <td>0</td>\n",
       "      <td>0</td>\n",
       "      <td>4</td>\n",
       "      <td>2010</td>\n",
       "      <td>6.0</td>\n",
       "      <td>174000</td>\n",
       "      <td>4</td>\n",
       "      <td>1</td>\n",
       "      <td>1</td>\n",
       "      <td>1828.0</td>\n",
       "    </tr>\n",
       "    <tr>\n",
       "      <th>4</th>\n",
       "      <td>4</td>\n",
       "      <td>255</td>\n",
       "      <td>906425045</td>\n",
       "      <td>50</td>\n",
       "      <td>6.0</td>\n",
       "      <td>82.0</td>\n",
       "      <td>14235</td>\n",
       "      <td>2</td>\n",
       "      <td>3</td>\n",
       "      <td>2.0</td>\n",
       "      <td>...</td>\n",
       "      <td>0</td>\n",
       "      <td>0</td>\n",
       "      <td>3</td>\n",
       "      <td>2010</td>\n",
       "      <td>6.0</td>\n",
       "      <td>138500</td>\n",
       "      <td>110</td>\n",
       "      <td>93</td>\n",
       "      <td>0</td>\n",
       "      <td>2121.0</td>\n",
       "    </tr>\n",
       "  </tbody>\n",
       "</table>\n",
       "<p>5 rows × 82 columns</p>\n",
       "</div>"
      ],
      "text/plain": [
       "   Unnamed: 0   Id        PID  MS SubClass  MS Zoning  Lot Frontage  Lot Area  \\\n",
       "0           0  109  533352170           60        6.0          79.0     13517   \n",
       "1           1  544  531379050           60        6.0          43.0     11492   \n",
       "2           2  153  535304180           20        6.0          68.0      7922   \n",
       "3           3  318  916386060           60        6.0          73.0      9802   \n",
       "4           4  255  906425045           50        6.0          82.0     14235   \n",
       "\n",
       "   Street  Lot Shape  Land Contour  ...  Pool Area  Misc Val  Mo Sold  \\\n",
       "0       2          3           2.0  ...          0         0        3   \n",
       "1       2          3           2.0  ...          0         0        4   \n",
       "2       2          4           2.0  ...          0         0        1   \n",
       "3       2          4           2.0  ...          0         0        4   \n",
       "4       2          3           2.0  ...          0         0        3   \n",
       "\n",
       "   Yr Sold  Sale Type  SalePrice  HouseAge  Remodel_Age  is_Remodeled  \\\n",
       "0     2010        6.0     130500        34           29             0   \n",
       "1     2009        6.0     220000        13            1             1   \n",
       "2     2010        6.0     109000        57           54             0   \n",
       "3     2010        6.0     174000         4            1             1   \n",
       "4     2010        6.0     138500       110           93             0   \n",
       "\n",
       "   Total_SF  \n",
       "0    2204.0  \n",
       "1    3035.0  \n",
       "2    2114.0  \n",
       "3    1828.0  \n",
       "4    2121.0  \n",
       "\n",
       "[5 rows x 82 columns]"
      ]
     },
     "execution_count": 8,
     "metadata": {},
     "output_type": "execute_result"
    }
   ],
   "source": [
    "df_train = pd.read_csv(\"../datasets/train_wfeature_all.csv\")\n",
    "df_train.head()"
   ]
  },
  {
   "cell_type": "code",
   "execution_count": 9,
   "id": "6c6ea6d2",
   "metadata": {},
   "outputs": [],
   "source": [
    "#drop unnecessary columns\n",
    "df_train.drop(columns=['Unnamed: 0', 'Id', 'PID'], inplace=True)"
   ]
  },
  {
   "cell_type": "code",
   "execution_count": 10,
   "id": "14a94798",
   "metadata": {},
   "outputs": [
    {
     "data": {
      "text/plain": [
       "(1955, 79)"
      ]
     },
     "execution_count": 10,
     "metadata": {},
     "output_type": "execute_result"
    }
   ],
   "source": [
    "#check the number of data points and columns\n",
    "df_train.shape"
   ]
  },
  {
   "cell_type": "code",
   "execution_count": 11,
   "id": "0be16a20",
   "metadata": {},
   "outputs": [
    {
     "data": {
      "text/plain": [
       "Series([], dtype: int64)"
      ]
     },
     "execution_count": 11,
     "metadata": {},
     "output_type": "execute_result"
    }
   ],
   "source": [
    "#check that there is no null values\n",
    "df_train.isnull().sum()[df_train.isnull().sum()>0].sort_values()"
   ]
  },
  {
   "cell_type": "code",
   "execution_count": 12,
   "id": "6bae7d88",
   "metadata": {},
   "outputs": [
    {
     "data": {
      "text/plain": [
       "MS SubClass       int64\n",
       "MS Zoning       float64\n",
       "Lot Frontage    float64\n",
       "Lot Area          int64\n",
       "Street            int64\n",
       "                 ...   \n",
       "SalePrice         int64\n",
       "HouseAge          int64\n",
       "Remodel_Age       int64\n",
       "is_Remodeled      int64\n",
       "Total_SF        float64\n",
       "Length: 79, dtype: object"
      ]
     },
     "execution_count": 12,
     "metadata": {},
     "output_type": "execute_result"
    }
   ],
   "source": [
    "df_train.dtypes"
   ]
  },
  {
   "cell_type": "markdown",
   "id": "d1007c9d",
   "metadata": {},
   "source": [
    "***define X  and y***"
   ]
  },
  {
   "cell_type": "code",
   "execution_count": 13,
   "id": "f654f402",
   "metadata": {},
   "outputs": [],
   "source": [
    "\n",
    "X=df_train[['Total_SF', 'Neighborhood', 'Overall Qual', 'Bsmt Unf SF', 'Kitchen Qual', 'Garage Area', \n",
    "            'Fireplace Qu', 'Overall Cond', 'Yr Sold', 'Year Built']]\n",
    "y=df_train['SalePrice']"
   ]
  },
  {
   "cell_type": "code",
   "execution_count": 14,
   "id": "e2524182",
   "metadata": {},
   "outputs": [
    {
     "data": {
      "text/html": [
       "<table class=\"simpletable\">\n",
       "<caption>OLS Regression Results</caption>\n",
       "<tr>\n",
       "  <th>Dep. Variable:</th>        <td>SalePrice</td>    <th>  R-squared (uncentered):</th>      <td>   0.986</td> \n",
       "</tr>\n",
       "<tr>\n",
       "  <th>Model:</th>                   <td>OLS</td>       <th>  Adj. R-squared (uncentered):</th> <td>   0.986</td> \n",
       "</tr>\n",
       "<tr>\n",
       "  <th>Method:</th>             <td>Least Squares</td>  <th>  F-statistic:       </th>          <td>1.411e+04</td>\n",
       "</tr>\n",
       "<tr>\n",
       "  <th>Date:</th>             <td>Thu, 03 Feb 2022</td> <th>  Prob (F-statistic):</th>           <td>  0.00</td>  \n",
       "</tr>\n",
       "<tr>\n",
       "  <th>Time:</th>                 <td>17:36:40</td>     <th>  Log-Likelihood:    </th>          <td> -22234.</td> \n",
       "</tr>\n",
       "<tr>\n",
       "  <th>No. Observations:</th>      <td>  1955</td>      <th>  AIC:               </th>          <td>4.449e+04</td>\n",
       "</tr>\n",
       "<tr>\n",
       "  <th>Df Residuals:</th>          <td>  1945</td>      <th>  BIC:               </th>          <td>4.454e+04</td>\n",
       "</tr>\n",
       "<tr>\n",
       "  <th>Df Model:</th>              <td>    10</td>      <th>                     </th>              <td> </td>    \n",
       "</tr>\n",
       "<tr>\n",
       "  <th>Covariance Type:</th>      <td>nonrobust</td>    <th>                     </th>              <td> </td>    \n",
       "</tr>\n",
       "</table>\n",
       "<table class=\"simpletable\">\n",
       "<tr>\n",
       "        <td></td>          <th>coef</th>     <th>std err</th>      <th>t</th>      <th>P>|t|</th>  <th>[0.025</th>    <th>0.975]</th>  \n",
       "</tr>\n",
       "<tr>\n",
       "  <th>Total_SF</th>     <td>   39.7248</td> <td>    1.040</td> <td>   38.203</td> <td> 0.000</td> <td>   37.685</td> <td>   41.764</td>\n",
       "</tr>\n",
       "<tr>\n",
       "  <th>Neighborhood</th> <td> 1471.6219</td> <td>  109.158</td> <td>   13.482</td> <td> 0.000</td> <td> 1257.544</td> <td> 1685.700</td>\n",
       "</tr>\n",
       "<tr>\n",
       "  <th>Overall Qual</th> <td> 9999.8054</td> <td>  603.939</td> <td>   16.558</td> <td> 0.000</td> <td> 8815.370</td> <td> 1.12e+04</td>\n",
       "</tr>\n",
       "<tr>\n",
       "  <th>Bsmt Unf SF</th>  <td>  -19.7226</td> <td>    1.231</td> <td>  -16.016</td> <td> 0.000</td> <td>  -22.138</td> <td>  -17.308</td>\n",
       "</tr>\n",
       "<tr>\n",
       "  <th>Kitchen Qual</th> <td> 1.185e+04</td> <td> 1042.116</td> <td>   11.370</td> <td> 0.000</td> <td> 9805.564</td> <td> 1.39e+04</td>\n",
       "</tr>\n",
       "<tr>\n",
       "  <th>Garage Area</th>  <td>   27.3143</td> <td>    2.963</td> <td>    9.217</td> <td> 0.000</td> <td>   21.503</td> <td>   33.126</td>\n",
       "</tr>\n",
       "<tr>\n",
       "  <th>Fireplace Qu</th> <td> 2997.4256</td> <td>  313.119</td> <td>    9.573</td> <td> 0.000</td> <td> 2383.342</td> <td> 3611.509</td>\n",
       "</tr>\n",
       "<tr>\n",
       "  <th>Overall Cond</th> <td> 4979.1127</td> <td>  479.604</td> <td>   10.382</td> <td> 0.000</td> <td> 4038.520</td> <td> 5919.705</td>\n",
       "</tr>\n",
       "<tr>\n",
       "  <th>Yr Sold</th>      <td> -281.9319</td> <td>   24.619</td> <td>  -11.452</td> <td> 0.000</td> <td> -330.215</td> <td> -233.649</td>\n",
       "</tr>\n",
       "<tr>\n",
       "  <th>Year Built</th>   <td>  245.4099</td> <td>   25.465</td> <td>    9.637</td> <td> 0.000</td> <td>  195.468</td> <td>  295.352</td>\n",
       "</tr>\n",
       "</table>\n",
       "<table class=\"simpletable\">\n",
       "<tr>\n",
       "  <th>Omnibus:</th>       <td>120.734</td> <th>  Durbin-Watson:     </th> <td>   1.949</td>\n",
       "</tr>\n",
       "<tr>\n",
       "  <th>Prob(Omnibus):</th> <td> 0.000</td>  <th>  Jarque-Bera (JB):  </th> <td> 443.246</td>\n",
       "</tr>\n",
       "<tr>\n",
       "  <th>Skew:</th>          <td> 0.188</td>  <th>  Prob(JB):          </th> <td>5.63e-97</td>\n",
       "</tr>\n",
       "<tr>\n",
       "  <th>Kurtosis:</th>      <td> 5.302</td>  <th>  Cond. No.          </th> <td>8.60e+03</td>\n",
       "</tr>\n",
       "</table><br/><br/>Notes:<br/>[1] R² is computed without centering (uncentered) since the model does not contain a constant.<br/>[2] Standard Errors assume that the covariance matrix of the errors is correctly specified.<br/>[3] The condition number is large, 8.6e+03. This might indicate that there are<br/>strong multicollinearity or other numerical problems."
      ],
      "text/plain": [
       "<class 'statsmodels.iolib.summary.Summary'>\n",
       "\"\"\"\n",
       "                                 OLS Regression Results                                \n",
       "=======================================================================================\n",
       "Dep. Variable:              SalePrice   R-squared (uncentered):                   0.986\n",
       "Model:                            OLS   Adj. R-squared (uncentered):              0.986\n",
       "Method:                 Least Squares   F-statistic:                          1.411e+04\n",
       "Date:                Thu, 03 Feb 2022   Prob (F-statistic):                        0.00\n",
       "Time:                        17:36:40   Log-Likelihood:                         -22234.\n",
       "No. Observations:                1955   AIC:                                  4.449e+04\n",
       "Df Residuals:                    1945   BIC:                                  4.454e+04\n",
       "Df Model:                          10                                                  \n",
       "Covariance Type:            nonrobust                                                  \n",
       "================================================================================\n",
       "                   coef    std err          t      P>|t|      [0.025      0.975]\n",
       "--------------------------------------------------------------------------------\n",
       "Total_SF        39.7248      1.040     38.203      0.000      37.685      41.764\n",
       "Neighborhood  1471.6219    109.158     13.482      0.000    1257.544    1685.700\n",
       "Overall Qual  9999.8054    603.939     16.558      0.000    8815.370    1.12e+04\n",
       "Bsmt Unf SF    -19.7226      1.231    -16.016      0.000     -22.138     -17.308\n",
       "Kitchen Qual  1.185e+04   1042.116     11.370      0.000    9805.564    1.39e+04\n",
       "Garage Area     27.3143      2.963      9.217      0.000      21.503      33.126\n",
       "Fireplace Qu  2997.4256    313.119      9.573      0.000    2383.342    3611.509\n",
       "Overall Cond  4979.1127    479.604     10.382      0.000    4038.520    5919.705\n",
       "Yr Sold       -281.9319     24.619    -11.452      0.000    -330.215    -233.649\n",
       "Year Built     245.4099     25.465      9.637      0.000     195.468     295.352\n",
       "==============================================================================\n",
       "Omnibus:                      120.734   Durbin-Watson:                   1.949\n",
       "Prob(Omnibus):                  0.000   Jarque-Bera (JB):              443.246\n",
       "Skew:                           0.188   Prob(JB):                     5.63e-97\n",
       "Kurtosis:                       5.302   Cond. No.                     8.60e+03\n",
       "==============================================================================\n",
       "\n",
       "Notes:\n",
       "[1] R² is computed without centering (uncentered) since the model does not contain a constant.\n",
       "[2] Standard Errors assume that the covariance matrix of the errors is correctly specified.\n",
       "[3] The condition number is large, 8.6e+03. This might indicate that there are\n",
       "strong multicollinearity or other numerical problems.\n",
       "\"\"\""
      ]
     },
     "execution_count": 14,
     "metadata": {},
     "output_type": "execute_result"
    }
   ],
   "source": [
    "#check the p-value using the OLS from statsmodel.api\n",
    "ols = sm.OLS(y, X).fit()\n",
    "ols.summary()"
   ]
  },
  {
   "cell_type": "markdown",
   "id": "02e2483f",
   "metadata": {},
   "source": [
    "### split train datasets into train and validation, 80% train and 20% validation data"
   ]
  },
  {
   "cell_type": "code",
   "execution_count": 15,
   "id": "a95f0a18",
   "metadata": {},
   "outputs": [],
   "source": [
    "#split the data as train and validation\n",
    "X_train, X_val, y_train, y_val = train_test_split(X,y, test_size=0.2, random_state=52)"
   ]
  },
  {
   "cell_type": "code",
   "execution_count": 16,
   "id": "325e9d04",
   "metadata": {},
   "outputs": [],
   "source": [
    "#scale the X\n",
    "ss = StandardScaler()\n",
    "X_train_scaled = ss.fit_transform(X_train)\n",
    "X_val_scaled = ss.transform(X_val)"
   ]
  },
  {
   "cell_type": "markdown",
   "id": "be7ad147",
   "metadata": {},
   "source": [
    "### Create polynomial features from train and val datasets"
   ]
  },
  {
   "cell_type": "code",
   "execution_count": 17,
   "id": "32476298",
   "metadata": {},
   "outputs": [],
   "source": [
    "poly = PolynomialFeatures(\n",
    "    degree = 2, include_bias = False, interaction_only = False)"
   ]
  },
  {
   "cell_type": "code",
   "execution_count": 18,
   "id": "2f4dc84f",
   "metadata": {},
   "outputs": [],
   "source": [
    "X_train_poly = poly.fit_transform(X_train)\n",
    "polynomial_column_names = poly.get_feature_names(input_features = X_train.columns)\n",
    "X_train_poly = pd.DataFrame(data = X_train_poly, columns = polynomial_column_names )"
   ]
  },
  {
   "cell_type": "code",
   "execution_count": 19,
   "id": "bb8772d7",
   "metadata": {},
   "outputs": [],
   "source": [
    "X_val_poly = poly.fit_transform(X_val)\n",
    "polynomial_column_names = poly.get_feature_names(input_features = X_val.columns)\n",
    "X_val_poly = pd.DataFrame(data = X_val_poly, columns = polynomial_column_names )"
   ]
  },
  {
   "cell_type": "code",
   "execution_count": 20,
   "id": "40e81126",
   "metadata": {},
   "outputs": [
    {
     "data": {
      "text/plain": [
       "(1564, 65)"
      ]
     },
     "execution_count": 20,
     "metadata": {},
     "output_type": "execute_result"
    }
   ],
   "source": [
    "#check how many features we have after poly\n",
    "X_train_poly.shape"
   ]
  },
  {
   "cell_type": "code",
   "execution_count": 21,
   "id": "5418081f",
   "metadata": {},
   "outputs": [],
   "source": [
    "#scale the X - Poly\n",
    "ssp = StandardScaler()\n",
    "X_train_scaled_poly = ssp.fit_transform(X_train_poly)\n",
    "X_val_scaled_poly = ssp.transform(X_val_poly)"
   ]
  },
  {
   "cell_type": "markdown",
   "id": "921f0205",
   "metadata": {},
   "source": [
    "## Linear Regression (without Poly)"
   ]
  },
  {
   "cell_type": "code",
   "execution_count": 22,
   "id": "9e7d5d56",
   "metadata": {},
   "outputs": [
    {
     "name": "stdout",
     "output_type": "stream",
     "text": [
      "Alpha: 0\n",
      "R2 of Train: 0.8728641188009616 , R2 of Val: 0.8885424150724679\n",
      "MSE of Train, 450350681.1698296 , MSE of Val 414709865.2712874\n",
      "RMSE of Train, 21221.467460329637 , RMSE of Val 20364.42646556213\n"
     ]
    }
   ],
   "source": [
    "# Instantiate model.\n",
    "lr = LinearRegression()\n",
    "get_r2_mse(lr, 'LR (no poly)', 0, X_train_scaled, X_val_scaled, y_train, y_val, regression_dict, True)"
   ]
  },
  {
   "cell_type": "markdown",
   "id": "a89fbf31",
   "metadata": {},
   "source": [
    "## Linear Regression (with Poly)"
   ]
  },
  {
   "cell_type": "code",
   "execution_count": 23,
   "id": "dd4e9901",
   "metadata": {},
   "outputs": [
    {
     "name": "stdout",
     "output_type": "stream",
     "text": [
      "Alpha: 0\n",
      "R2 of Train: 0.9019046950904102 , R2 of Val: 0.9180438989811234\n",
      "MSE of Train, 347480876.12209076 , MSE of Val 304941145.40339977\n",
      "RMSE of Train, 18640.83893289384 , RMSE of Val 17462.56411307915\n"
     ]
    }
   ],
   "source": [
    "# Instantiate model.\n",
    "lrPoly = LinearRegression()\n",
    "\n",
    "#we will not add this to our dictionary as the result is not good\n",
    "get_r2_mse(lrPoly, 'LR (with poly)', 0, X_train_scaled_poly, X_val_scaled_poly, y_train, y_val, regression_dict, False)\n"
   ]
  },
  {
   "cell_type": "markdown",
   "id": "cb0fbfae",
   "metadata": {},
   "source": [
    "***It's overfitting, the train dataset has 100% r2, but the validation score is negative 1.89!\n",
    "MSE of validation is 10B!!! LR is not a good model for polynomials.***"
   ]
  },
  {
   "cell_type": "markdown",
   "id": "6c082221",
   "metadata": {},
   "source": [
    "### Searching for optimal alpha -> RIDGE, LASSO and ELASTiCNET"
   ]
  },
  {
   "cell_type": "markdown",
   "id": "65b9b5a3",
   "metadata": {},
   "source": [
    "## Ridge"
   ]
  },
  {
   "cell_type": "code",
   "execution_count": 24,
   "id": "61937fe1",
   "metadata": {},
   "outputs": [
    {
     "data": {
      "image/png": "[encoded data removed]",
      "text/plain": [
       "<Figure size 504x360 with 1 Axes>"
      ]
     },
     "metadata": {
      "needs_background": "light"
     },
     "output_type": "display_data"
    },
    {
     "name": "stdout",
     "output_type": "stream",
     "text": [
      "Alpha: 10.0\n",
      "R2 of Train: 0.896726382392701 , R2 of Val: 0.9156130514130532\n",
      "MSE of Train, 368326951.89333427 , MSE of Val 313985809.95543456\n",
      "RMSE of Train, 19191.84597409364 , RMSE of Val 17719.64474687443\n"
     ]
    }
   ],
   "source": [
    "#using cross validation to loop  with range of alphas and plot the optimal/chosen alpha\n",
    "\n",
    "ridgesearch_optimal_alpha = rmodel_crossval('Ridge', my_alphas, X_train_scaled_poly, y_train, \n",
    "        X_val_scaled_poly, y_val,regression_dict)\n",
    "\n"
   ]
  },
  {
   "cell_type": "code",
   "execution_count": 25,
   "id": "3f071482",
   "metadata": {},
   "outputs": [
    {
     "name": "stdout",
     "output_type": "stream",
     "text": [
      "Alpha: 13.838383838383837\n",
      "R2 of Train: 0.8955947621308065 , R2 of Val: 0.9153042888614839\n",
      "MSE of Train, 369832415.11873865 , MSE of Val 315134649.455639\n",
      "RMSE of Train, 19231.027406738795 , RMSE of Val 17752.032262691475\n"
     ]
    }
   ],
   "source": [
    "#Using RidgeCV using the same alphas\n",
    "ridge_cv = RidgeCV(alphas=my_alphas, cv=crossval)\n",
    "ridge_cv.fit(X_train_scaled_poly, y_train);\n",
    "\n",
    "#chosen alpha\n",
    "ridge_cv_alpha = ridge_cv.alpha_\n",
    "\n",
    "#get our result, but need to create a model again based on the chosen alpha\n",
    "ridge = Ridge(alpha=ridge_cv_alpha)\n",
    "get_r2_mse(ridge, 'RidgeCV', ridge_cv_alpha, X_train_scaled_poly, X_val_scaled_poly, y_train, y_val, regression_dict, True)"
   ]
  },
  {
   "cell_type": "code",
   "execution_count": 26,
   "id": "e86fe084",
   "metadata": {},
   "outputs": [
    {
     "name": "stdout",
     "output_type": "stream",
     "text": [
      "Alpha: 13.838383838383837\n",
      "R2 of Train: 0.8955947621308065 , R2 of Val: 0.9153042888614839\n",
      "MSE of Train, 369832415.11873865 , MSE of Val 315134649.455639\n",
      "RMSE of Train, 19231.027406738795 , RMSE of Val 17752.032262691475\n"
     ]
    }
   ],
   "source": [
    "#Using RandomizedSearchCV, search for the best alpa\n",
    "\n",
    "param_grid = {'alpha': my_alphas\n",
    "             }\n",
    "\n",
    "# Instantiate model.\n",
    "ridge_model = Ridge()\n",
    "rand_search_ridge = RandomizedSearchCV(estimator=ridge_model, \n",
    "                                 param_distributions=param_grid,\n",
    "                                 cv = crossval,\n",
    "                                 n_iter=100)\n",
    "\n",
    "rand_search_ridge.fit(X_train_scaled_poly, y_train);\n",
    "\n",
    "#check the optimal alpha based on RandomizedSearchCV\n",
    "ridgerandomscv_optimal_alpa = rand_search_ridge.best_estimator_.alpha\n",
    "\n",
    "#get our result, but need to create a model again based on the chosen alpha\n",
    "ridge = Ridge(alpha=ridgerandomscv_optimal_alpa)\n",
    "get_r2_mse(ridge, 'Ridge RandomCSV', ridgerandomscv_optimal_alpa, X_train_scaled_poly, X_val_scaled_poly, y_train, y_val, regression_dict, True)\n",
    "\n",
    "\n"
   ]
  },
  {
   "cell_type": "markdown",
   "id": "c8e664d7",
   "metadata": {},
   "source": [
    "## LASSO"
   ]
  },
  {
   "cell_type": "code",
   "execution_count": 27,
   "id": "a8800120",
   "metadata": {},
   "outputs": [
    {
     "data": {
      "image/png": "[encoded data removed]",
      "text/plain": [
       "<Figure size 504x360 with 1 Axes>"
      ]
     },
     "metadata": {
      "needs_background": "light"
     },
     "output_type": "display_data"
    },
    {
     "name": "stdout",
     "output_type": "stream",
     "text": [
      "Alpha: 25.353535353535353\n",
      "R2 of Train: 0.8975094576419466 , R2 of Val: 0.9163477525338821\n",
      "MSE of Train, 367038586.67699337 , MSE of Val 311252144.02294767\n",
      "RMSE of Train, 19158.251138269206 , RMSE of Val 17642.339528048644\n"
     ]
    }
   ],
   "source": [
    "#using cross validation to loop  with range of alphas and plot the optimal/chosen alpha\n",
    "lassosearch_optimal_alpha = rmodel_crossval('Lasso', my_alphas, X_train_scaled_poly, y_train, \n",
    "        X_val_scaled_poly, y_val,regression_dict)\n"
   ]
  },
  {
   "cell_type": "code",
   "execution_count": 28,
   "id": "c171dfb9",
   "metadata": {},
   "outputs": [
    {
     "name": "stdout",
     "output_type": "stream",
     "text": [
      "Alpha: 82.92929292929293\n",
      "R2 of Train: 0.8967609204465286 , R2 of Val: 0.9161780468877303\n",
      "MSE of Train, 365701557.7487793 , MSE of Val 311883582.4817764\n",
      "RMSE of Train, 19123.324965831107 , RMSE of Val 17660.226003134172\n"
     ]
    }
   ],
   "source": [
    "#Using LassoCV using the same alphas\n",
    "lasso_cv = LassoCV(alphas=my_alphas,cv = crossval)\n",
    "\n",
    "#instantiate the model\n",
    "lasso_cv.fit(X_train_scaled_poly, y_train);\n",
    "\n",
    "#get the optimal alpha\n",
    "lasso_cv_alpha = lasso_cv.alpha_\n",
    "\n",
    "#get our result, but need to create a model again based on the chosen alpha\n",
    "lasso = Lasso(alpha=ridgerandomscv_optimal_alpa)\n",
    "get_r2_mse(lasso, 'LassoCV', lasso_cv_alpha, X_train_scaled_poly, X_val_scaled_poly, y_train, y_val, regression_dict, True)\n"
   ]
  },
  {
   "cell_type": "code",
   "execution_count": 29,
   "id": "f1fd8008",
   "metadata": {},
   "outputs": [],
   "source": [
    "#do we have any features that zeroed out?\n",
    "coef = dict(zip(polynomial_column_names, lasso_cv.coef_))\n",
    "\n",
    "#uncomment if you want to see, but it's quite long\n",
    "#coef "
   ]
  },
  {
   "cell_type": "markdown",
   "id": "4526f3a6",
   "metadata": {},
   "source": [
    "## Lasso's coef_\n",
    "<details>\n",
    "  <summary>Out of 3159, there are only 30+ Features with coef_, the rest are 0s, expand for details</summary>\n",
    "\n",
    "        #'MS SubClass Mas Vnr Type': -654.1489403181133,\n",
    "        #'MS SubClass Mas Vnr Type': -654.1489403181133,\n",
    "        #'MS SubClass Garage Area': -703.1880977250123,\n",
    "        #'MS Zoning Condition 1': 732.1944822395341,\n",
    "        #'MS Zoning Bldg Type': 494.2327493717202,\n",
    "        #'MS Zoning Functional': 68.22189615343186,\n",
    "        #'MS Zoning Sale Type': 782.327760433673,\n",
    "        #'Lot Area Land Contour': 201.0705489834723,\n",
    "        #'Lot Area Overall Cond': 808.4102640940354,\n",
    "        #'Lot Area Exterior 1st': 2079.293074914176,\n",
    "        #'Lot Area Mas Vnr Type': 671.0863274559588,\n",
    "        #'Lot Area Paved Drive': 1869.3584761342483,\n",
    "        #'Street Functional': 497.97823447403516,\n",
    "        #'Lot Shape Kitchen AbvGr': -254.398620531571,\n",
    "        #'Land Contour Overall Qual': 146.53163425696454,\n",
    "        #'Utilities Year Remod/Add': 336.4946940202968,\n",
    "        #'Lot Config Mas Vnr Area': -299.9970301720546,\n",
    "        #'Land Slope Roof Matl': -241.75796536619774,\n",
    "        #'Land Slope Kitchen AbvGr': -282.65870164953304,\n",
    "        #'Neighborhood^2': 1289.2993556183199,\n",
    "        #'Neighborhood Overall Qual': 2736.0926437310322,\n",
    "        #'Neighborhood Low Qual Fin SF': -407.32079988508303,\n",
    "        #'Neighborhood Gr Liv Area': 3116.667530950304,\n",
    "        #'Neighborhood Fireplace Qu': 1841.1185391045533,\n",
    "        #'Neighborhood Garage Finish': 369.751068284764,\n",
    "        #'Condition 1 Overall Qual': 424.15707182282625,\n",
    "        #'Condition 1 Overall Cond': 633.6837530095626\n",
    "        #'Condition 1 Functional': 253.53255115924145,\n",
    "        #'Condition 1 Paved Drive': 223.46153493956672\n",
    "    \n",
    "</details>"
   ]
  },
  {
   "cell_type": "code",
   "execution_count": 30,
   "id": "ea859940",
   "metadata": {},
   "outputs": [
    {
     "name": "stdout",
     "output_type": "stream",
     "text": [
      "Alpha: 90.60606060606061\n",
      "R2 of Train: 0.8939274506851947 , R2 of Val: 0.9145172325706126\n",
      "MSE of Train, 375738496.3774034 , MSE of Val 318063117.7923643\n",
      "RMSE of Train, 19383.975247028236 , RMSE of Val 17834.32414733915\n"
     ]
    }
   ],
   "source": [
    "#Using RandomizedSearchCV, search for the best alpa\n",
    "param_grid = {'alpha': my_alphas}\n",
    "\n",
    "model = Lasso()\n",
    "lasso_rand_search = RandomizedSearchCV(estimator=model, \n",
    "                                 param_distributions=param_grid,\n",
    "                                cv = crossval,\n",
    "                                 n_iter=100)\n",
    "\n",
    "lasso_rand_search.fit(X_train_scaled_poly, y_train);\n",
    "\n",
    "#check the optimal alpha based on RandomizedSearchCV\n",
    "lassorandomcsv_optimal_alpha = lasso_rand_search.best_estimator_.alpha\n",
    "\n",
    "\n",
    "#get our result, but need to create a model again based on the chosen alpha\n",
    "lasso = Lasso(alpha=lassorandomcsv_optimal_alpha)\n",
    "get_r2_mse(lasso, 'LassoCV', lassorandomcsv_optimal_alpha, X_train_scaled_poly, X_val_scaled_poly, y_train, y_val, regression_dict, True)\n",
    "\n"
   ]
  },
  {
   "cell_type": "markdown",
   "id": "d394acc9",
   "metadata": {},
   "source": [
    "## ElasticNet"
   ]
  },
  {
   "cell_type": "code",
   "execution_count": 31,
   "id": "349878f1",
   "metadata": {},
   "outputs": [
    {
     "data": {
      "image/png": "[encoded data removed]",
      "text/plain": [
       "<Figure size 504x360 with 1 Axes>"
      ]
     },
     "metadata": {
      "needs_background": "light"
     },
     "output_type": "display_data"
    },
    {
     "name": "stdout",
     "output_type": "stream",
     "text": [
      "Alpha: 10.0\n",
      "R2 of Train: 0.838487398920466 , R2 of Val: 0.853404228969503\n",
      "MSE of Train, 572673126.8940384 , MSE of Val 545451549.9588983\n",
      "RMSE of Train, 23930.589773217842 , RMSE of Val 23354.904195027182\n"
     ]
    }
   ],
   "source": [
    "#using cross validation to loop  with range of alphas and plot the optimal/chosen alpha\n",
    "enetsearch_optimal_alpha = rmodel_crossval('Enet', my_alphas, X_train_scaled_poly, y_train, \n",
    "        X_val_scaled_poly, y_val,regression_dict)\n"
   ]
  },
  {
   "cell_type": "code",
   "execution_count": 32,
   "id": "cda3fa73",
   "metadata": {},
   "outputs": [
    {
     "name": "stdout",
     "output_type": "stream",
     "text": [
      "Alpha: 10.0\n",
      "R2 of Train: 0.838331980674353 , R2 of Val: 0.853404228969503\n",
      "MSE of Train, 572673126.8940384 , MSE of Val 545451549.9588983\n",
      "RMSE of Train, 23930.589773217842 , RMSE of Val 23354.904195027182\n"
     ]
    }
   ],
   "source": [
    "#using ElasticNetCV\n",
    "\n",
    "# Instantiate model.\n",
    "enetcv_model = ElasticNetCV(alphas=my_alphas,cv = crossval)\n",
    "\n",
    "# Fit model \n",
    "enetcv_model.fit(X_train_scaled_poly, y_train)\n",
    "\n",
    "#get the optimal alpha\n",
    "enetcv_alpha = enetcv_model.alpha_\n",
    "\n",
    "#get our result, but need to create a model again based on the chosen alpha\n",
    "enet = ElasticNet(alpha=enetcv_alpha)\n",
    "get_r2_mse(enet, 'ENetCV', enetcv_alpha, X_train_scaled_poly, X_val_scaled_poly, y_train, y_val, regression_dict, True)\n"
   ]
  },
  {
   "cell_type": "code",
   "execution_count": 33,
   "id": "736eff7b",
   "metadata": {},
   "outputs": [
    {
     "name": "stdout",
     "output_type": "stream",
     "text": [
      "Alpha: 10.0\n",
      "R2 of Train: 0.838331980674353 , R2 of Val: 0.853404228969503\n",
      "MSE of Train, 572673126.8940384 , MSE of Val 545451549.9588983\n",
      "RMSE of Train, 23930.589773217842 , RMSE of Val 23354.904195027182\n"
     ]
    }
   ],
   "source": [
    "#Using RandomizedSearchCV, search for the best alpa\n",
    "param_grid = {'alpha': my_alphas}\n",
    "\n",
    "model = ElasticNet()\n",
    "enet_rand_search = RandomizedSearchCV(estimator=model, \n",
    "                                 param_distributions=param_grid,\n",
    "                                 cv = crossval,\n",
    "                                 n_iter=100)\n",
    "\n",
    "enet_rand_search.fit(X_train_scaled_poly, y_train);\n",
    "\n",
    "#check the optimal alpha based on RandomizedSearchCV\n",
    "enetrandomcsv_optimal_alpha = enet_rand_search.best_estimator_.alpha\n",
    "\n",
    "#get our result, but need to create a model again based on the chosen alpha\n",
    "enet = ElasticNet(alpha=enetrandomcsv_optimal_alpha)\n",
    "get_r2_mse(enet, 'ENet RandomSCV', enetrandomcsv_optimal_alpha, X_train_scaled_poly, X_val_scaled_poly, y_train, y_val, regression_dict, True)\n"
   ]
  },
  {
   "cell_type": "markdown",
   "id": "6885e0d7",
   "metadata": {},
   "source": [
    "***Optimal alpha for ElasticNet is 10 for both***"
   ]
  },
  {
   "cell_type": "markdown",
   "id": "15d5c7d0",
   "metadata": {},
   "source": [
    "# Summmary of Regression Models"
   ]
  },
  {
   "cell_type": "code",
   "execution_count": 34,
   "id": "a8f1c0d0",
   "metadata": {},
   "outputs": [],
   "source": [
    "df_reg = pd.DataFrame(regression_dict).T.reset_index()\n",
    "df_reg.rename(columns={\"index\":\"model_type\"}, inplace=True)\n"
   ]
  },
  {
   "cell_type": "code",
   "execution_count": 35,
   "id": "c013c5a7",
   "metadata": {},
   "outputs": [
    {
     "data": {
      "text/html": [
       "<div>\n",
       "<style scoped>\n",
       "    .dataframe tbody tr th:only-of-type {\n",
       "        vertical-align: middle;\n",
       "    }\n",
       "\n",
       "    .dataframe tbody tr th {\n",
       "        vertical-align: top;\n",
       "    }\n",
       "\n",
       "    .dataframe thead th {\n",
       "        text-align: right;\n",
       "    }\n",
       "</style>\n",
       "<table border=\"1\" class=\"dataframe\">\n",
       "  <thead>\n",
       "    <tr style=\"text-align: right;\">\n",
       "      <th></th>\n",
       "      <th>model_type</th>\n",
       "      <th>alpha</th>\n",
       "      <th>train_score</th>\n",
       "      <th>validation_score</th>\n",
       "      <th>mse_train</th>\n",
       "      <th>mse_val</th>\n",
       "      <th>rmse_train</th>\n",
       "      <th>rmse_val</th>\n",
       "    </tr>\n",
       "  </thead>\n",
       "  <tbody>\n",
       "    <tr>\n",
       "      <th>4</th>\n",
       "      <td>Lasso(cross_validate)</td>\n",
       "      <td>25.353535</td>\n",
       "      <td>0.8975</td>\n",
       "      <td>0.9163</td>\n",
       "      <td>3.670386e+08</td>\n",
       "      <td>3.112521e+08</td>\n",
       "      <td>19158.2511</td>\n",
       "      <td>17642.3395</td>\n",
       "    </tr>\n",
       "    <tr>\n",
       "      <th>1</th>\n",
       "      <td>Ridge(cross_validate)</td>\n",
       "      <td>10.000000</td>\n",
       "      <td>0.8967</td>\n",
       "      <td>0.9156</td>\n",
       "      <td>3.683270e+08</td>\n",
       "      <td>3.139858e+08</td>\n",
       "      <td>19191.8460</td>\n",
       "      <td>17719.6447</td>\n",
       "    </tr>\n",
       "    <tr>\n",
       "      <th>2</th>\n",
       "      <td>RidgeCV</td>\n",
       "      <td>13.838400</td>\n",
       "      <td>0.8956</td>\n",
       "      <td>0.9153</td>\n",
       "      <td>3.698324e+08</td>\n",
       "      <td>3.151346e+08</td>\n",
       "      <td>19231.0274</td>\n",
       "      <td>17752.0323</td>\n",
       "    </tr>\n",
       "    <tr>\n",
       "      <th>3</th>\n",
       "      <td>Ridge RandomCSV</td>\n",
       "      <td>13.838400</td>\n",
       "      <td>0.8956</td>\n",
       "      <td>0.9153</td>\n",
       "      <td>3.698324e+08</td>\n",
       "      <td>3.151346e+08</td>\n",
       "      <td>19231.0274</td>\n",
       "      <td>17752.0323</td>\n",
       "    </tr>\n",
       "    <tr>\n",
       "      <th>5</th>\n",
       "      <td>LassoCV</td>\n",
       "      <td>90.606100</td>\n",
       "      <td>0.8939</td>\n",
       "      <td>0.9145</td>\n",
       "      <td>3.757385e+08</td>\n",
       "      <td>3.180631e+08</td>\n",
       "      <td>19383.9752</td>\n",
       "      <td>17834.3241</td>\n",
       "    </tr>\n",
       "    <tr>\n",
       "      <th>0</th>\n",
       "      <td>LR (no poly)</td>\n",
       "      <td>0.000000</td>\n",
       "      <td>0.8729</td>\n",
       "      <td>0.8885</td>\n",
       "      <td>4.503507e+08</td>\n",
       "      <td>4.147099e+08</td>\n",
       "      <td>21221.4675</td>\n",
       "      <td>20364.4265</td>\n",
       "    </tr>\n",
       "    <tr>\n",
       "      <th>6</th>\n",
       "      <td>Enet(cross_validate)</td>\n",
       "      <td>10.000000</td>\n",
       "      <td>0.8385</td>\n",
       "      <td>0.8534</td>\n",
       "      <td>5.726731e+08</td>\n",
       "      <td>5.454515e+08</td>\n",
       "      <td>23930.5898</td>\n",
       "      <td>23354.9042</td>\n",
       "    </tr>\n",
       "    <tr>\n",
       "      <th>7</th>\n",
       "      <td>ENetCV</td>\n",
       "      <td>10.000000</td>\n",
       "      <td>0.8383</td>\n",
       "      <td>0.8534</td>\n",
       "      <td>5.726731e+08</td>\n",
       "      <td>5.454515e+08</td>\n",
       "      <td>23930.5898</td>\n",
       "      <td>23354.9042</td>\n",
       "    </tr>\n",
       "    <tr>\n",
       "      <th>8</th>\n",
       "      <td>ENet RandomSCV</td>\n",
       "      <td>10.000000</td>\n",
       "      <td>0.8383</td>\n",
       "      <td>0.8534</td>\n",
       "      <td>5.726731e+08</td>\n",
       "      <td>5.454515e+08</td>\n",
       "      <td>23930.5898</td>\n",
       "      <td>23354.9042</td>\n",
       "    </tr>\n",
       "  </tbody>\n",
       "</table>\n",
       "</div>"
      ],
      "text/plain": [
       "              model_type      alpha  train_score  validation_score  \\\n",
       "4  Lasso(cross_validate)  25.353535       0.8975            0.9163   \n",
       "1  Ridge(cross_validate)  10.000000       0.8967            0.9156   \n",
       "2                RidgeCV  13.838400       0.8956            0.9153   \n",
       "3        Ridge RandomCSV  13.838400       0.8956            0.9153   \n",
       "5                LassoCV  90.606100       0.8939            0.9145   \n",
       "0           LR (no poly)   0.000000       0.8729            0.8885   \n",
       "6   Enet(cross_validate)  10.000000       0.8385            0.8534   \n",
       "7                 ENetCV  10.000000       0.8383            0.8534   \n",
       "8         ENet RandomSCV  10.000000       0.8383            0.8534   \n",
       "\n",
       "      mse_train       mse_val  rmse_train    rmse_val  \n",
       "4  3.670386e+08  3.112521e+08  19158.2511  17642.3395  \n",
       "1  3.683270e+08  3.139858e+08  19191.8460  17719.6447  \n",
       "2  3.698324e+08  3.151346e+08  19231.0274  17752.0323  \n",
       "3  3.698324e+08  3.151346e+08  19231.0274  17752.0323  \n",
       "5  3.757385e+08  3.180631e+08  19383.9752  17834.3241  \n",
       "0  4.503507e+08  4.147099e+08  21221.4675  20364.4265  \n",
       "6  5.726731e+08  5.454515e+08  23930.5898  23354.9042  \n",
       "7  5.726731e+08  5.454515e+08  23930.5898  23354.9042  \n",
       "8  5.726731e+08  5.454515e+08  23930.5898  23354.9042  "
      ]
     },
     "execution_count": 35,
     "metadata": {},
     "output_type": "execute_result"
    }
   ],
   "source": [
    "#sort by highest R2 of Validation\n",
    "df_reg.sort_values(by='validation_score', ascending=False)"
   ]
  },
  {
   "cell_type": "code",
   "execution_count": 84,
   "id": "0bae4d41",
   "metadata": {},
   "outputs": [
    {
     "data": {
      "text/plain": [
       "'Lasso(cross_validate)'"
      ]
     },
     "execution_count": 84,
     "metadata": {},
     "output_type": "execute_result"
    }
   ],
   "source": [
    "xwin = df_reg.sort_values(by='validation_score', ascending=False).iloc[0:1, 0:1]\n"
   ]
  },
  {
   "cell_type": "code",
   "execution_count": 85,
   "id": "b1506f7c",
   "metadata": {},
   "outputs": [
    {
     "data": {
      "image/png": "[encoded data removed]",
      "text/plain": [
       "<Figure size 720x360 with 2 Axes>"
      ]
     },
     "metadata": {
      "needs_background": "light"
     },
     "output_type": "display_data"
    }
   ],
   "source": [
    "#Create combo chart\n",
    "fig, ax1 = plt.subplots(figsize=(10,5))\n",
    "color = 'tab:blue'\n",
    "\n",
    "#line plot creation\n",
    "ax1.set_title('Regression Models for Validation Datasets (Score and RMSE)', fontsize=16)\n",
    "\n",
    "ax1.set_xlabel('models', fontsize=16)\n",
    "ax1.set_ylabel('score (val)', fontsize=16,color=color)\n",
    "ax1 = sns.lineplot(x='model_type', y='validation_score', data = df_reg, color=color,marker='X', dashes=False)\n",
    "\n",
    "ax1.tick_params(axis='x', rotation=60)\n",
    "\n",
    "# label points for score\n",
    "for x, y in zip(df_reg['model_type'], df_reg['validation_score']):\n",
    "    ax1.text(x = x, # x-coordinate position of data label\n",
    "    y = y, # y-coordinate position of data label\n",
    "    s = '{:.2f}%'.format(y*100), # data label, formatted to show percentage\n",
    "    color = 'blue') # set colour of line\n",
    "\n",
    "    \n",
    "ax1.axvline(x= xwin.iloc[0][\"model_type\"], color = 'green', linestyle = 'dotted')\n",
    "\n",
    "#specify we want to share the same x-axis\n",
    "ax2 = ax1.twinx()\n",
    "color = 'tab:red'\n",
    "\n",
    "#line plot creation\n",
    "ax2.set_ylabel('rmse - (val)', fontsize=16,color=color)\n",
    "ax2 = sns.lineplot(x='model_type', y='rmse_val', data = df_reg, sort=False, color=color,marker='X')\n",
    "\n",
    "# label points for rmse\n",
    "for x, y in zip(df_reg['model_type'], df_reg['rmse_val']):\n",
    "    ax2.text(x = x, # x-coordinate position of data label\n",
    "    y = y, # y-coordinate position of data label\n",
    "    s = '{:.2f}.K'.format(y/1000), # data label, formatted to show percentage\n",
    "    color = 'red') # set colour of line\n",
    "\n",
    "\n",
    "#show plot\n",
    "plt.show()"
   ]
  },
  {
   "cell_type": "markdown",
   "id": "d2952c78",
   "metadata": {},
   "source": [
    "# Summary and Conclusion:\n",
    "\n",
    "Lasso(cross_validate) with alpha of 25.35 has the highest R2 **91.63%** and lowest RSE of 17.6K. It was a good result considering this only a selection of Top 10 features,  compared to 78 features (with Polynomials is 3159 total features) that has R2 of **92.91%**"
   ]
  },
  {
   "cell_type": "code",
   "execution_count": null,
   "id": "3321887e",
   "metadata": {},
   "outputs": [],
   "source": []
  }
 ],
 "metadata": {
  "kernelspec": {
   "display_name": "Python 3",
   "language": "python",
   "name": "python3"
  },
  "language_info": {
   "codemirror_mode": {
    "name": "ipython",
    "version": 3
   },
   "file_extension": ".py",
   "mimetype": "text/x-python",
   "name": "python",
   "nbconvert_exporter": "python",
   "pygments_lexer": "ipython3",
   "version": "3.8.8"
  }
 },
 "nbformat": 4,
 "nbformat_minor": 5
}
